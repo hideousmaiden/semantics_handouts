{
  "nbformat": 4,
  "nbformat_minor": 0,
  "metadata": {
    "colab": {
      "provenance": [],
      "authorship_tag": "ABX9TyPnco2qU/Q2xG/wSsEKylTo",
      "include_colab_link": true
    },
    "kernelspec": {
      "name": "python3",
      "display_name": "Python 3"
    },
    "language_info": {
      "name": "python"
    }
  },
  "cells": [
    {
      "cell_type": "markdown",
      "metadata": {
        "id": "view-in-github",
        "colab_type": "text"
      },
      "source": [
        "<a href=\"https://colab.research.google.com/github/hideousmaiden/semantics_handouts/blob/main/%D0%B0%D0%B2%D1%82%D0%BE%D1%80%D0%B0%D1%81%D1%81%D1%8B%D0%BB%D0%BA%D0%B0.ipynb\" target=\"_parent\"><img src=\"https://colab.research.google.com/assets/colab-badge.svg\" alt=\"Open In Colab\"/></a>"
      ]
    },
    {
      "cell_type": "code",
      "execution_count": null,
      "metadata": {
        "colab": {
          "base_uri": "https://localhost:8080/"
        },
        "id": "3lm8F_HgbbVv",
        "outputId": "32f8e3b8-ccb1-4530-a917-3378fdcfb7aa"
      },
      "outputs": [
        {
          "output_type": "stream",
          "name": "stdout",
          "text": [
            "Collecting secure-smtplib==0.1.1\n",
            "  Downloading secure_smtplib-0.1.1-py2.py3-none-any.whl.metadata (511 bytes)\n",
            "Downloading secure_smtplib-0.1.1-py2.py3-none-any.whl (3.4 kB)\n",
            "Installing collected packages: secure-smtplib\n",
            "Successfully installed secure-smtplib-0.1.1\n"
          ]
        }
      ],
      "source": [
        "!pip install secure-smtplib==0.1.1"
      ]
    },
    {
      "cell_type": "code",
      "source": [
        "import os\n",
        "import random\n",
        "import pandas as pd\n",
        "from google.colab import files"
      ],
      "metadata": {
        "id": "mxKbd62AeLOt"
      },
      "execution_count": null,
      "outputs": []
    },
    {
      "cell_type": "code",
      "source": [
        "from google.colab import drive\n",
        "drive.mount('/content/drive')"
      ],
      "metadata": {
        "colab": {
          "base_uri": "https://localhost:8080/"
        },
        "id": "mq4IcUyIcbOg",
        "outputId": "6d350679-5ef5-4ca5-c8ee-1ec2c125f3aa"
      },
      "execution_count": null,
      "outputs": [
        {
          "output_type": "stream",
          "name": "stdout",
          "text": [
            "Mounted at /content/drive\n"
          ]
        }
      ]
    },
    {
      "cell_type": "code",
      "source": [
        "#СЮДА ВСТАВИТЬ ПУТЬ К ПАПКЕ КУРСА\n",
        "#СДЕЛАТЬ В ПАПКЕ КУРСА ПАПКУ \"rassylka\"\n",
        "os.chdir('/content/drive/MyDrive/формсем_2025_преподская')"
      ],
      "metadata": {
        "id": "siHayv0_cvj-"
      },
      "execution_count": null,
      "outputs": []
    },
    {
      "cell_type": "code",
      "source": [
        "#ПЕРЕНЕСТИ ПАПКИ С ТЕМАМИ В rassylka\n",
        "problemdir = '/content/drive/MyDrive/формсем_2025_преподская/rassylka'\n",
        "def problem_chooser():\n",
        "    problems = []\n",
        "    for subdir, dirs, files in os.walk(problemdir):\n",
        "       for dir in dirs:\n",
        "           thing = random.choice(os.listdir(os.path.join(problemdir, dir)))\n",
        "           problems.append((os.path.join(problemdir, dir, thing), thing))\n",
        "    return problems"
      ],
      "metadata": {
        "id": "kdJ5iv5veJ5n"
      },
      "execution_count": null,
      "outputs": []
    },
    {
      "cell_type": "code",
      "source": [
        "print(problem_chooser()[1])"
      ],
      "metadata": {
        "colab": {
          "base_uri": "https://localhost:8080/"
        },
        "id": "9a0r4q1ipIHL",
        "outputId": "8379ff5b-c5e5-4d5d-a835-d02d86bfb761"
      },
      "execution_count": null,
      "outputs": [
        {
          "output_type": "stream",
          "name": "stdout",
          "text": [
            "('/content/drive/MyDrive/формсем_2025_преподская/rassylka/4/4А.pdf', '4А.pdf')\n"
          ]
        }
      ]
    },
    {
      "cell_type": "code",
      "source": [
        "# ВСТАВИТЬ ПОЧТУ\n",
        "sender_email = \"sidorckina.darya@gmail.com\"\n",
        "#ЭТО НЕ ТРОГАТЬ\n",
        "# The port number identifies specific processes when an internet or network message is forwarded to a server.\n",
        "port = 0 # If port is zero, the standard SMTP-over-SSL port (465) is used.\n",
        "smtp_server = \"smtp.gmail.com\" # Set SMTP server provider or SMTP setting\n",
        "\n",
        "# ВСТАВИТЬ СГЕНЕРИРОВАННЫЙ ПАРОЛЬ\n",
        "# Please read and follow in the link: https://support.google.com/accounts/answer/185833?visit_id=638256356071361680-2723346452&p=InvalidSecondFactor&rd=1\n",
        "password = \"\" # Change your password"
      ],
      "metadata": {
        "id": "U6SRtjV5qnbV"
      },
      "execution_count": null,
      "outputs": []
    },
    {
      "cell_type": "code",
      "source": [
        "#текст письма\n",
        "subject = \"Задачи по формсему\"\n",
        "message = \"\"\"\n",
        "Дорогая/дорогой {},\n",
        "\n",
        "это письмо с вашими задачами по формальной семантике. Здесь задачи на первые 4 темы. Напоминаю, что дедлайн для их письменной сдачи - 8 октября.\n",
        "\n",
        "--------------------------------------------------------------------------\n",
        "Хороших вам грядущих выходных,\n",
        "Даша.\n",
        "\"\"\""
      ],
      "metadata": {
        "id": "HEpPmvC6rFrQ"
      },
      "execution_count": null,
      "outputs": []
    },
    {
      "cell_type": "code",
      "source": [
        "#подкл к таблице\n",
        "from google.colab import auth\n",
        "auth.authenticate_user()\n",
        "\n",
        "import gspread\n",
        "from google.auth import default\n",
        "creds, _ = default()\n",
        "\n",
        "gc = gspread.authorize(creds)"
      ],
      "metadata": {
        "id": "Q7xbvk5ftoSk"
      },
      "execution_count": null,
      "outputs": []
    },
    {
      "cell_type": "code",
      "source": [
        "#название таблички со списком студентов и их почт из папки курса\n",
        "worksheet = gc.open('формсем_2025_домашки_преподская').get_worksheet(1) #номер листа, начинаются с нуля\n",
        "\n",
        "# get_all_values gives a list of rows.\n",
        "rows = worksheet.get_all_values()\n",
        "headd = rows[0]\n",
        "rows = rows[1:]\n",
        "print(rows)\n",
        "\n",
        "df = pd.DataFrame.from_records(rows, columns=headd)\n",
        "df.head()"
      ],
      "metadata": {
        "colab": {
          "base_uri": "https://localhost:8080/",
          "height": 243
        },
        "id": "O5DHsNc2tytQ",
        "outputId": "4a1be649-2a70-4bd5-ec2d-d07747780487"
      },
      "execution_count": null,
      "outputs": [
        {
          "output_type": "stream",
          "name": "stdout",
          "text": [
            "[['Фуркин Николай', 'nafurkin@edu.hse.ru'], ['Марьин Даниил', 'dsmarin@edu.hse.ru'], ['Полина Ратанова', 'pvratanova@edu.hse.ru'], ['Петухова Виктория', 'vvpetukhova_2@edu.hse.ru'], ['Шнайдштейн Александр', 'avshnaidshtein@edu.hse.ru'], ['Седунова Софья', 'svsedunova@edu.hse.ru']]\n"
          ]
        },
        {
          "output_type": "execute_result",
          "data": {
            "text/plain": [
              "            фамилия имя                      почта\n",
              "0        Фуркин Николай        nafurkin@edu.hse.ru\n",
              "1         Марьин Даниил         dsmarin@edu.hse.ru\n",
              "2       Полина Ратанова      pvratanova@edu.hse.ru\n",
              "3     Петухова Виктория   vvpetukhova_2@edu.hse.ru\n",
              "4  Шнайдштейн Александр  avshnaidshtein@edu.hse.ru"
            ],
            "text/html": [
              "\n",
              "  <div id=\"df-3e846654-c25d-4f6a-aa08-2186ef168dc9\" class=\"colab-df-container\">\n",
              "    <div>\n",
              "<style scoped>\n",
              "    .dataframe tbody tr th:only-of-type {\n",
              "        vertical-align: middle;\n",
              "    }\n",
              "\n",
              "    .dataframe tbody tr th {\n",
              "        vertical-align: top;\n",
              "    }\n",
              "\n",
              "    .dataframe thead th {\n",
              "        text-align: right;\n",
              "    }\n",
              "</style>\n",
              "<table border=\"1\" class=\"dataframe\">\n",
              "  <thead>\n",
              "    <tr style=\"text-align: right;\">\n",
              "      <th></th>\n",
              "      <th>фамилия имя</th>\n",
              "      <th>почта</th>\n",
              "    </tr>\n",
              "  </thead>\n",
              "  <tbody>\n",
              "    <tr>\n",
              "      <th>0</th>\n",
              "      <td>Фуркин Николай</td>\n",
              "      <td>nafurkin@edu.hse.ru</td>\n",
              "    </tr>\n",
              "    <tr>\n",
              "      <th>1</th>\n",
              "      <td>Марьин Даниил</td>\n",
              "      <td>dsmarin@edu.hse.ru</td>\n",
              "    </tr>\n",
              "    <tr>\n",
              "      <th>2</th>\n",
              "      <td>Полина Ратанова</td>\n",
              "      <td>pvratanova@edu.hse.ru</td>\n",
              "    </tr>\n",
              "    <tr>\n",
              "      <th>3</th>\n",
              "      <td>Петухова Виктория</td>\n",
              "      <td>vvpetukhova_2@edu.hse.ru</td>\n",
              "    </tr>\n",
              "    <tr>\n",
              "      <th>4</th>\n",
              "      <td>Шнайдштейн Александр</td>\n",
              "      <td>avshnaidshtein@edu.hse.ru</td>\n",
              "    </tr>\n",
              "  </tbody>\n",
              "</table>\n",
              "</div>\n",
              "    <div class=\"colab-df-buttons\">\n",
              "\n",
              "  <div class=\"colab-df-container\">\n",
              "    <button class=\"colab-df-convert\" onclick=\"convertToInteractive('df-3e846654-c25d-4f6a-aa08-2186ef168dc9')\"\n",
              "            title=\"Convert this dataframe to an interactive table.\"\n",
              "            style=\"display:none;\">\n",
              "\n",
              "  <svg xmlns=\"http://www.w3.org/2000/svg\" height=\"24px\" viewBox=\"0 -960 960 960\">\n",
              "    <path d=\"M120-120v-720h720v720H120Zm60-500h600v-160H180v160Zm220 220h160v-160H400v160Zm0 220h160v-160H400v160ZM180-400h160v-160H180v160Zm440 0h160v-160H620v160ZM180-180h160v-160H180v160Zm440 0h160v-160H620v160Z\"/>\n",
              "  </svg>\n",
              "    </button>\n",
              "\n",
              "  <style>\n",
              "    .colab-df-container {\n",
              "      display:flex;\n",
              "      gap: 12px;\n",
              "    }\n",
              "\n",
              "    .colab-df-convert {\n",
              "      background-color: #E8F0FE;\n",
              "      border: none;\n",
              "      border-radius: 50%;\n",
              "      cursor: pointer;\n",
              "      display: none;\n",
              "      fill: #1967D2;\n",
              "      height: 32px;\n",
              "      padding: 0 0 0 0;\n",
              "      width: 32px;\n",
              "    }\n",
              "\n",
              "    .colab-df-convert:hover {\n",
              "      background-color: #E2EBFA;\n",
              "      box-shadow: 0px 1px 2px rgba(60, 64, 67, 0.3), 0px 1px 3px 1px rgba(60, 64, 67, 0.15);\n",
              "      fill: #174EA6;\n",
              "    }\n",
              "\n",
              "    .colab-df-buttons div {\n",
              "      margin-bottom: 4px;\n",
              "    }\n",
              "\n",
              "    [theme=dark] .colab-df-convert {\n",
              "      background-color: #3B4455;\n",
              "      fill: #D2E3FC;\n",
              "    }\n",
              "\n",
              "    [theme=dark] .colab-df-convert:hover {\n",
              "      background-color: #434B5C;\n",
              "      box-shadow: 0px 1px 3px 1px rgba(0, 0, 0, 0.15);\n",
              "      filter: drop-shadow(0px 1px 2px rgba(0, 0, 0, 0.3));\n",
              "      fill: #FFFFFF;\n",
              "    }\n",
              "  </style>\n",
              "\n",
              "    <script>\n",
              "      const buttonEl =\n",
              "        document.querySelector('#df-3e846654-c25d-4f6a-aa08-2186ef168dc9 button.colab-df-convert');\n",
              "      buttonEl.style.display =\n",
              "        google.colab.kernel.accessAllowed ? 'block' : 'none';\n",
              "\n",
              "      async function convertToInteractive(key) {\n",
              "        const element = document.querySelector('#df-3e846654-c25d-4f6a-aa08-2186ef168dc9');\n",
              "        const dataTable =\n",
              "          await google.colab.kernel.invokeFunction('convertToInteractive',\n",
              "                                                    [key], {});\n",
              "        if (!dataTable) return;\n",
              "\n",
              "        const docLinkHtml = 'Like what you see? Visit the ' +\n",
              "          '<a target=\"_blank\" href=https://colab.research.google.com/notebooks/data_table.ipynb>data table notebook</a>'\n",
              "          + ' to learn more about interactive tables.';\n",
              "        element.innerHTML = '';\n",
              "        dataTable['output_type'] = 'display_data';\n",
              "        await google.colab.output.renderOutput(dataTable, element);\n",
              "        const docLink = document.createElement('div');\n",
              "        docLink.innerHTML = docLinkHtml;\n",
              "        element.appendChild(docLink);\n",
              "      }\n",
              "    </script>\n",
              "  </div>\n",
              "\n",
              "\n",
              "    <div id=\"df-74db8d29-7c9d-4d9f-b41b-6c2c5bab1b1f\">\n",
              "      <button class=\"colab-df-quickchart\" onclick=\"quickchart('df-74db8d29-7c9d-4d9f-b41b-6c2c5bab1b1f')\"\n",
              "                title=\"Suggest charts\"\n",
              "                style=\"display:none;\">\n",
              "\n",
              "<svg xmlns=\"http://www.w3.org/2000/svg\" height=\"24px\"viewBox=\"0 0 24 24\"\n",
              "     width=\"24px\">\n",
              "    <g>\n",
              "        <path d=\"M19 3H5c-1.1 0-2 .9-2 2v14c0 1.1.9 2 2 2h14c1.1 0 2-.9 2-2V5c0-1.1-.9-2-2-2zM9 17H7v-7h2v7zm4 0h-2V7h2v10zm4 0h-2v-4h2v4z\"/>\n",
              "    </g>\n",
              "</svg>\n",
              "      </button>\n",
              "\n",
              "<style>\n",
              "  .colab-df-quickchart {\n",
              "      --bg-color: #E8F0FE;\n",
              "      --fill-color: #1967D2;\n",
              "      --hover-bg-color: #E2EBFA;\n",
              "      --hover-fill-color: #174EA6;\n",
              "      --disabled-fill-color: #AAA;\n",
              "      --disabled-bg-color: #DDD;\n",
              "  }\n",
              "\n",
              "  [theme=dark] .colab-df-quickchart {\n",
              "      --bg-color: #3B4455;\n",
              "      --fill-color: #D2E3FC;\n",
              "      --hover-bg-color: #434B5C;\n",
              "      --hover-fill-color: #FFFFFF;\n",
              "      --disabled-bg-color: #3B4455;\n",
              "      --disabled-fill-color: #666;\n",
              "  }\n",
              "\n",
              "  .colab-df-quickchart {\n",
              "    background-color: var(--bg-color);\n",
              "    border: none;\n",
              "    border-radius: 50%;\n",
              "    cursor: pointer;\n",
              "    display: none;\n",
              "    fill: var(--fill-color);\n",
              "    height: 32px;\n",
              "    padding: 0;\n",
              "    width: 32px;\n",
              "  }\n",
              "\n",
              "  .colab-df-quickchart:hover {\n",
              "    background-color: var(--hover-bg-color);\n",
              "    box-shadow: 0 1px 2px rgba(60, 64, 67, 0.3), 0 1px 3px 1px rgba(60, 64, 67, 0.15);\n",
              "    fill: var(--button-hover-fill-color);\n",
              "  }\n",
              "\n",
              "  .colab-df-quickchart-complete:disabled,\n",
              "  .colab-df-quickchart-complete:disabled:hover {\n",
              "    background-color: var(--disabled-bg-color);\n",
              "    fill: var(--disabled-fill-color);\n",
              "    box-shadow: none;\n",
              "  }\n",
              "\n",
              "  .colab-df-spinner {\n",
              "    border: 2px solid var(--fill-color);\n",
              "    border-color: transparent;\n",
              "    border-bottom-color: var(--fill-color);\n",
              "    animation:\n",
              "      spin 1s steps(1) infinite;\n",
              "  }\n",
              "\n",
              "  @keyframes spin {\n",
              "    0% {\n",
              "      border-color: transparent;\n",
              "      border-bottom-color: var(--fill-color);\n",
              "      border-left-color: var(--fill-color);\n",
              "    }\n",
              "    20% {\n",
              "      border-color: transparent;\n",
              "      border-left-color: var(--fill-color);\n",
              "      border-top-color: var(--fill-color);\n",
              "    }\n",
              "    30% {\n",
              "      border-color: transparent;\n",
              "      border-left-color: var(--fill-color);\n",
              "      border-top-color: var(--fill-color);\n",
              "      border-right-color: var(--fill-color);\n",
              "    }\n",
              "    40% {\n",
              "      border-color: transparent;\n",
              "      border-right-color: var(--fill-color);\n",
              "      border-top-color: var(--fill-color);\n",
              "    }\n",
              "    60% {\n",
              "      border-color: transparent;\n",
              "      border-right-color: var(--fill-color);\n",
              "    }\n",
              "    80% {\n",
              "      border-color: transparent;\n",
              "      border-right-color: var(--fill-color);\n",
              "      border-bottom-color: var(--fill-color);\n",
              "    }\n",
              "    90% {\n",
              "      border-color: transparent;\n",
              "      border-bottom-color: var(--fill-color);\n",
              "    }\n",
              "  }\n",
              "</style>\n",
              "\n",
              "      <script>\n",
              "        async function quickchart(key) {\n",
              "          const quickchartButtonEl =\n",
              "            document.querySelector('#' + key + ' button');\n",
              "          quickchartButtonEl.disabled = true;  // To prevent multiple clicks.\n",
              "          quickchartButtonEl.classList.add('colab-df-spinner');\n",
              "          try {\n",
              "            const charts = await google.colab.kernel.invokeFunction(\n",
              "                'suggestCharts', [key], {});\n",
              "          } catch (error) {\n",
              "            console.error('Error during call to suggestCharts:', error);\n",
              "          }\n",
              "          quickchartButtonEl.classList.remove('colab-df-spinner');\n",
              "          quickchartButtonEl.classList.add('colab-df-quickchart-complete');\n",
              "        }\n",
              "        (() => {\n",
              "          let quickchartButtonEl =\n",
              "            document.querySelector('#df-74db8d29-7c9d-4d9f-b41b-6c2c5bab1b1f button');\n",
              "          quickchartButtonEl.style.display =\n",
              "            google.colab.kernel.accessAllowed ? 'block' : 'none';\n",
              "        })();\n",
              "      </script>\n",
              "    </div>\n",
              "    </div>\n",
              "  </div>\n"
            ],
            "application/vnd.google.colaboratory.intrinsic+json": {
              "type": "dataframe",
              "variable_name": "df",
              "summary": "{\n  \"name\": \"df\",\n  \"rows\": 6,\n  \"fields\": [\n    {\n      \"column\": \"\\u0444\\u0430\\u043c\\u0438\\u043b\\u0438\\u044f \\u0438\\u043c\\u044f\",\n      \"properties\": {\n        \"dtype\": \"string\",\n        \"num_unique_values\": 6,\n        \"samples\": [\n          \"\\u0424\\u0443\\u0440\\u043a\\u0438\\u043d \\u041d\\u0438\\u043a\\u043e\\u043b\\u0430\\u0439\",\n          \"\\u041c\\u0430\\u0440\\u044c\\u0438\\u043d \\u0414\\u0430\\u043d\\u0438\\u0438\\u043b\",\n          \"\\u0421\\u0435\\u0434\\u0443\\u043d\\u043e\\u0432\\u0430 \\u0421\\u043e\\u0444\\u044c\\u044f\"\n        ],\n        \"semantic_type\": \"\",\n        \"description\": \"\"\n      }\n    },\n    {\n      \"column\": \"\\u043f\\u043e\\u0447\\u0442\\u0430\",\n      \"properties\": {\n        \"dtype\": \"string\",\n        \"num_unique_values\": 6,\n        \"samples\": [\n          \"nafurkin@edu.hse.ru\",\n          \"dsmarin@edu.hse.ru\",\n          \"svsedunova@edu.hse.ru\"\n        ],\n        \"semantic_type\": \"\",\n        \"description\": \"\"\n      }\n    }\n  ]\n}"
            }
          },
          "metadata": {},
          "execution_count": 14
        }
      ]
    },
    {
      "cell_type": "code",
      "source": [
        "import smtplib, ssl\n",
        "from email.mime.text import MIMEText\n",
        "from email.mime.multipart import MIMEMultipart\n",
        "from email.mime.image import MIMEImage\n",
        "from email.mime.application import MIMEApplication"
      ],
      "metadata": {
        "id": "HSvaj7A5rNjE"
      },
      "execution_count": null,
      "outputs": []
    },
    {
      "cell_type": "code",
      "source": [
        "def email_sender(row):\n",
        "    stud_name = row['фамилия имя']\n",
        "    stud_email = row['почта']\n",
        "    problems = problem_chooser()\n",
        "\n",
        "    # Create a MIMEMultipart object to handle multiple parts of the message\n",
        "    msg = MIMEMultipart()\n",
        "    msg['From'] = sender_email\n",
        "    msg['To'] = stud_email\n",
        "    msg['Subject'] = subject\n",
        "    out = []\n",
        "\n",
        "    #записываем в табличку, какой вариант дали\n",
        "\n",
        "    # Attach the plain text message to the email\n",
        "    msg.attach(MIMEText(message.format(stud_name), 'plain'))\n",
        "    count = 1\n",
        "    for problem in problems:\n",
        "        row[str(count)] = problem[1].split('.')[0]\n",
        "        count += 1\n",
        "        # Attach the PDF file to the email\n",
        "        with open(problem[0], 'rb') as PDF_file:\n",
        "            PDF_attachment = MIMEApplication(PDF_file.read(), name=problem[1])\n",
        "            msg.attach(PDF_attachment)\n",
        "    # Send the email\n",
        "    context = ssl.create_default_context()\n",
        "    with smtplib.SMTP_SSL(smtp_server, port, context=context) as server:\n",
        "        server.login(sender_email, password)\n",
        "        server.sendmail(sender_email, stud_email, msg.as_string())\n",
        "    print(\"Successfully sent email\")\n",
        "    return row"
      ],
      "metadata": {
        "id": "1SPIgpVZstdE"
      },
      "execution_count": null,
      "outputs": []
    },
    {
      "cell_type": "code",
      "source": [
        "#email_sender('Шаша', 'sidorckina.darya@yandex.ru')"
      ],
      "metadata": {
        "id": "OzFIeJEtvPec"
      },
      "execution_count": null,
      "outputs": []
    },
    {
      "cell_type": "code",
      "source": [
        "#тест-драйв на коллегах\n",
        "#data = {'фамилия имя': ['Шаша','Полупавел', 'АВ'],\n",
        "#        'почта': ['sidorckina.darya@yandex.ru', 'pastafev760@gmail.com', 'sasha.podobryaev@gmail.com']}\n",
        "#data = {'фамилия имя': ['Шаша',],\n",
        "#       'почта': ['sidorckina.darya@yandex.ru']}\n",
        "# Create DataFrame\n",
        "#df = pd.DataFrame(data)\n",
        "\n",
        "#print(df)"
      ],
      "metadata": {
        "id": "kFQBwIwn1WT3"
      },
      "execution_count": null,
      "outputs": []
    },
    {
      "cell_type": "code",
      "source": [
        "#РАССЫЛКА!!!!!!!!!!!!!!!!!!!!!!!!!!!!!!!!!!!!!!!!1\n",
        "\n",
        "df = df.apply(email_sender, axis=1)\n",
        "print(df)"
      ],
      "metadata": {
        "colab": {
          "base_uri": "https://localhost:8080/"
        },
        "id": "EyL2i7mg3aer",
        "outputId": "c1dec360-2c01-4af0-b206-5147600f6f2d"
      },
      "execution_count": null,
      "outputs": [
        {
          "output_type": "stream",
          "name": "stdout",
          "text": [
            "Successfully sent email\n",
            "Successfully sent email\n",
            "Successfully sent email\n",
            "Successfully sent email\n",
            "Successfully sent email\n",
            "Successfully sent email\n",
            "            фамилия имя                      почта   1   2   3   4\n",
            "0        Фуркин Николай        nafurkin@edu.hse.ru  2А  4Б  1А  3А\n",
            "1         Марьин Даниил         dsmarin@edu.hse.ru  2А  4В  1Б  3А\n",
            "2       Полина Ратанова      pvratanova@edu.hse.ru  2А  4А  1А  3В\n",
            "3     Петухова Виктория   vvpetukhova_2@edu.hse.ru  2Б  4Г  1Г  3В\n",
            "4  Шнайдштейн Александр  avshnaidshtein@edu.hse.ru  2В  4Б  1В  3В\n",
            "5        Седунова Софья      svsedunova@edu.hse.ru  2А  4В  1В  3А\n"
          ]
        }
      ]
    },
    {
      "cell_type": "code",
      "source": [
        "#ЗАГРУЗИТЬ ПОТОМ СПИСОК!!!!!!!!!!!!!!!1\n",
        "df.to_csv('df.csv')\n",
        "files.download('df.csv')"
      ],
      "metadata": {
        "colab": {
          "base_uri": "https://localhost:8080/",
          "height": 17
        },
        "id": "et8kupaf5Zp7",
        "outputId": "aa05e711-f220-4b94-e9e7-0e6f82d4f3d3"
      },
      "execution_count": null,
      "outputs": [
        {
          "output_type": "display_data",
          "data": {
            "text/plain": [
              "<IPython.core.display.Javascript object>"
            ],
            "application/javascript": [
              "\n",
              "    async function download(id, filename, size) {\n",
              "      if (!google.colab.kernel.accessAllowed) {\n",
              "        return;\n",
              "      }\n",
              "      const div = document.createElement('div');\n",
              "      const label = document.createElement('label');\n",
              "      label.textContent = `Downloading \"${filename}\": `;\n",
              "      div.appendChild(label);\n",
              "      const progress = document.createElement('progress');\n",
              "      progress.max = size;\n",
              "      div.appendChild(progress);\n",
              "      document.body.appendChild(div);\n",
              "\n",
              "      const buffers = [];\n",
              "      let downloaded = 0;\n",
              "\n",
              "      const channel = await google.colab.kernel.comms.open(id);\n",
              "      // Send a message to notify the kernel that we're ready.\n",
              "      channel.send({})\n",
              "\n",
              "      for await (const message of channel.messages) {\n",
              "        // Send a message to notify the kernel that we're ready.\n",
              "        channel.send({})\n",
              "        if (message.buffers) {\n",
              "          for (const buffer of message.buffers) {\n",
              "            buffers.push(buffer);\n",
              "            downloaded += buffer.byteLength;\n",
              "            progress.value = downloaded;\n",
              "          }\n",
              "        }\n",
              "      }\n",
              "      const blob = new Blob(buffers, {type: 'application/binary'});\n",
              "      const a = document.createElement('a');\n",
              "      a.href = window.URL.createObjectURL(blob);\n",
              "      a.download = filename;\n",
              "      div.appendChild(a);\n",
              "      a.click();\n",
              "      div.remove();\n",
              "    }\n",
              "  "
            ]
          },
          "metadata": {}
        },
        {
          "output_type": "display_data",
          "data": {
            "text/plain": [
              "<IPython.core.display.Javascript object>"
            ],
            "application/javascript": [
              "download(\"download_0d804c71-41a6-480c-8c37-4fc273012ec0\", \"df.csv\", 470)"
            ]
          },
          "metadata": {}
        }
      ]
    },
    {
      "cell_type": "code",
      "source": [],
      "metadata": {
        "id": "ccWvuCCG5nfN"
      },
      "execution_count": null,
      "outputs": []
    }
  ]
}